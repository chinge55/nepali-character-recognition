{
  "nbformat": 4,
  "nbformat_minor": 0,
  "metadata": {
    "colab": {
      "name": "Nepali Character Recognition2.ipynb",
      "provenance": [],
      "collapsed_sections": [],
      "authorship_tag": "ABX9TyN0JXq+V6NeMVt81mC0X9M5"
    },
    "kernelspec": {
      "name": "python3",
      "display_name": "Python 3"
    },
    "accelerator": "GPU"
  },
  "cells": [
    {
      "cell_type": "code",
      "metadata": {
        "id": "02bPXmpsOBJl",
        "colab_type": "code",
        "outputId": "369c0e6e-bc13-4cd7-bc5b-4ed00415580b",
        "colab": {
          "base_uri": "https://localhost:8080/",
          "height": 118
        }
      },
      "source": [
        "!git clone https://github.com/kcnishan/Nepali_handwritten_digits_recognition"
      ],
      "execution_count": 1,
      "outputs": [
        {
          "output_type": "stream",
          "text": [
            "Cloning into 'Nepali_handwritten_digits_recognition'...\n",
            "remote: Enumerating objects: 92087, done.\u001b[K\n",
            "remote: Total 92087 (delta 0), reused 0 (delta 0), pack-reused 92087\u001b[K\n",
            "Receiving objects: 100% (92087/92087), 67.09 MiB | 11.39 MiB/s, done.\n",
            "Resolving deltas: 100% (3/3), done.\n",
            "Checking out files: 100% (92306/92306), done.\n"
          ],
          "name": "stdout"
        }
      ]
    },
    {
      "cell_type": "code",
      "metadata": {
        "id": "eCXeVK1KONX2",
        "colab_type": "code",
        "colab": {}
      },
      "source": [
        "import os\n",
        "base_dir = 'Nepali_handwritten_digits_recognition/dataset/'\n",
        "train_dir = os.path.join(base_dir, 'Train')\n",
        "test_dir = os.path.join(base_dir, 'Test')\n",
        "train_consonant_dir = os.path.join(train_dir, 'consonants/')\n",
        "train_digits_dir = os.path.join(train_dir, 'digits/')\n",
        "test_consonant_dir = os.path.join(test_dir, 'consonants/')\n",
        "test_digits_dir = os.path.join(test_dir, 'digits/')"
      ],
      "execution_count": 0,
      "outputs": []
    },
    {
      "cell_type": "code",
      "metadata": {
        "id": "wC1VHG-6PDnK",
        "colab_type": "code",
        "colab": {}
      },
      "source": [
        "import shutil\n",
        "import tensorflow as tf\n",
        "class customCallback(tf.keras.callbacks.Callback):\n",
        "  def on_epoch_end(self, epoch, logs = {}):\n",
        "    if(logs.get('acc')>0.99):\n",
        "      print(\"99 percent accuracy reached, so stopping\")\n",
        "      self.model.stop_training = True\n",
        "mycallback = customCallback()"
      ],
      "execution_count": 0,
      "outputs": []
    },
    {
      "cell_type": "code",
      "metadata": {
        "id": "eEpUPXCmPYSU",
        "colab_type": "code",
        "outputId": "3b49712c-b799-424c-9bb5-09d02c4f3dcf",
        "colab": {
          "base_uri": "https://localhost:8080/",
          "height": 185
        }
      },
      "source": [
        "for direct in os.listdir(train_digits_dir):\n",
        "  print(direct)\n",
        "  prev_data_path = os.path.join(train_digits_dir, direct)\n",
        "  new_data_path = os.path.join(train_consonant_dir, direct)\n",
        "  shutil.copytree(prev_data_path, new_data_path)"
      ],
      "execution_count": 4,
      "outputs": [
        {
          "output_type": "stream",
          "text": [
            "digit_0\n",
            "digit_5\n",
            "digit_3\n",
            "digit_2\n",
            "digit_9\n",
            "digit_6\n",
            "digit_1\n",
            "digit_7\n",
            "digit_8\n",
            "digit_4\n"
          ],
          "name": "stdout"
        }
      ]
    },
    {
      "cell_type": "code",
      "metadata": {
        "id": "aHfY6l_TPcGS",
        "colab_type": "code",
        "outputId": "c6772255-d1cd-4e5d-e6f4-6d1008861b01",
        "colab": {
          "base_uri": "https://localhost:8080/",
          "height": 790
        }
      },
      "source": [
        "os.listdir(train_consonant_dir)"
      ],
      "execution_count": 5,
      "outputs": [
        {
          "output_type": "execute_result",
          "data": {
            "text/plain": [
              "['character_26_yaw',\n",
              " 'character_23_ba',\n",
              " 'character_6_cha',\n",
              " 'character_12_thaa',\n",
              " 'character_7_chha',\n",
              " 'character_5_kna',\n",
              " 'digit_0',\n",
              " 'digit_5',\n",
              " 'character_30_motosaw',\n",
              " 'character_25_ma',\n",
              " 'digit_3',\n",
              " 'character_10_yna',\n",
              " 'character_35_tra',\n",
              " 'character_2_kha',\n",
              " 'character_11_taamatar',\n",
              " 'character_21_pa',\n",
              " 'character_29_waw',\n",
              " 'digit_2',\n",
              " 'character_32_patalosaw',\n",
              " 'digit_9',\n",
              " 'character_13_daa',\n",
              " 'digit_6',\n",
              " 'character_33_ha',\n",
              " 'character_14_dhaa',\n",
              " 'character_8_ja',\n",
              " 'character_17_tha',\n",
              " 'digit_1',\n",
              " 'digit_7',\n",
              " 'character_24_bha',\n",
              " 'character_15_adna',\n",
              " 'character_18_da',\n",
              " 'digit_8',\n",
              " 'character_31_petchiryakha',\n",
              " 'character_3_ga',\n",
              " 'character_27_ra',\n",
              " 'character_19_dha',\n",
              " 'character_36_gya',\n",
              " 'character_22_pha',\n",
              " 'character_4_gha',\n",
              " 'character_28_la',\n",
              " 'digit_4',\n",
              " 'character_16_tabala',\n",
              " 'character_34_chhya',\n",
              " 'character_9_jha',\n",
              " 'character_1_ka',\n",
              " 'character_20_na']"
            ]
          },
          "metadata": {
            "tags": []
          },
          "execution_count": 5
        }
      ]
    },
    {
      "cell_type": "code",
      "metadata": {
        "id": "3TS9YQQ-R02w",
        "colab_type": "code",
        "outputId": "1d86bb3d-8e46-48ac-920c-e13c7b7d3333",
        "colab": {
          "base_uri": "https://localhost:8080/",
          "height": 185
        }
      },
      "source": [
        "direct = \" \"\n",
        "for direct in os.listdir(test_digits_dir):\n",
        "  print(direct)\n",
        "  prev_data_path = os.path.join(test_digits_dir, direct)\n",
        "  new_data_path = os.path.join(test_consonant_dir, direct)\n",
        "  shutil.copytree(prev_data_path, new_data_path)"
      ],
      "execution_count": 6,
      "outputs": [
        {
          "output_type": "stream",
          "text": [
            "digit_0\n",
            "digit_5\n",
            "digit_3\n",
            "digit_2\n",
            "digit_9\n",
            "digit_6\n",
            "digit_1\n",
            "digit_7\n",
            "digit_8\n",
            "digit_4\n"
          ],
          "name": "stdout"
        }
      ]
    },
    {
      "cell_type": "code",
      "metadata": {
        "id": "dpX8Ka6CR-Qb",
        "colab_type": "code",
        "outputId": "a6d384d9-854c-4fb9-c70a-c012f1467e53",
        "colab": {
          "base_uri": "https://localhost:8080/",
          "height": 34
        }
      },
      "source": [
        "import cv2\n",
        "image = cv2.imread(test_consonant_dir+'/'+'digit_0'+'/'+'103277.png')\n",
        "print(image.shape)"
      ],
      "execution_count": 7,
      "outputs": [
        {
          "output_type": "stream",
          "text": [
            "(32, 32, 3)\n"
          ],
          "name": "stdout"
        }
      ]
    },
    {
      "cell_type": "code",
      "metadata": {
        "id": "_Ctfnp7pSZkv",
        "colab_type": "code",
        "outputId": "61678824-abd2-4058-fa51-1ee979071986",
        "colab": {
          "base_uri": "https://localhost:8080/",
          "height": 50
        }
      },
      "source": [
        "from keras.preprocessing.image import ImageDataGenerator\n",
        "train_datagen = ImageDataGenerator(rescale=1./255)\n",
        "test_datagen = ImageDataGenerator(rescale=1./255)\n",
        "train_generator = train_datagen.flow_from_directory(train_consonant_dir, target_size = (32, 32), batch_size = 100, class_mode = 'categorical')"
      ],
      "execution_count": 8,
      "outputs": [
        {
          "output_type": "stream",
          "text": [
            "Using TensorFlow backend.\n"
          ],
          "name": "stderr"
        },
        {
          "output_type": "stream",
          "text": [
            "Found 78200 images belonging to 46 classes.\n"
          ],
          "name": "stdout"
        }
      ]
    },
    {
      "cell_type": "code",
      "metadata": {
        "id": "6amWC-LQSgSz",
        "colab_type": "code",
        "outputId": "86c8f4da-1b17-4666-fb7c-5d244c4988e0",
        "colab": {
          "base_uri": "https://localhost:8080/",
          "height": 34
        }
      },
      "source": [
        "validation_generator = test_datagen.flow_from_directory(test_consonant_dir, target_size = (32, 32), batch_size = 100, class_mode = 'categorical')"
      ],
      "execution_count": 9,
      "outputs": [
        {
          "output_type": "stream",
          "text": [
            "Found 14100 images belonging to 46 classes.\n"
          ],
          "name": "stdout"
        }
      ]
    },
    {
      "cell_type": "code",
      "metadata": {
        "id": "-Rrh6phcS22I",
        "colab_type": "code",
        "outputId": "2c7e4722-9d31-4d86-83e7-c26b880af8a5",
        "colab": {
          "base_uri": "https://localhost:8080/",
          "height": 50
        }
      },
      "source": [
        "#generator yields batches indefinitely: so we need to break the iteration loop at some point\n",
        "for data_batch, labels_batch in train_generator:\n",
        "    print('data_batch_shape:', data_batch.shape)\n",
        "    print('labels_batch_shape:', labels_batch.shape)\n",
        "    break"
      ],
      "execution_count": 10,
      "outputs": [
        {
          "output_type": "stream",
          "text": [
            "data_batch_shape: (100, 32, 32, 3)\n",
            "labels_batch_shape: (100, 46)\n"
          ],
          "name": "stdout"
        }
      ]
    },
    {
      "cell_type": "code",
      "metadata": {
        "id": "1gvapfPgS7ym",
        "colab_type": "code",
        "colab": {}
      },
      "source": [
        "str_labels = os.listdir(test_consonant_dir)"
      ],
      "execution_count": 0,
      "outputs": []
    },
    {
      "cell_type": "code",
      "metadata": {
        "id": "bOhnnJw9TivO",
        "colab_type": "code",
        "colab": {}
      },
      "source": [
        "#building the neural newtork\n",
        "from keras import layers\n",
        "from keras import models\n",
        "model = models.Sequential()"
      ],
      "execution_count": 0,
      "outputs": []
    },
    {
      "cell_type": "code",
      "metadata": {
        "id": "F4EmibuZTqUD",
        "colab_type": "code",
        "colab": {}
      },
      "source": [
        "model.add(layers.Conv2D(64, (3,3), activation = 'relu', input_shape = (32, 32, 3)))\n",
        "model.add(layers.MaxPooling2D((2,2)))\n",
        "model.add(layers.Conv2D(64, (3,3), activation = 'relu'))\n",
        "model.add(layers.MaxPooling2D((2,2)))\n",
        "model.add(layers.Flatten())\n",
        "model.add(layers.Dense(512, activation = 'relu'))\n",
        "model.add(layers.Dense(46, activation = 'sigmoid'))"
      ],
      "execution_count": 0,
      "outputs": []
    },
    {
      "cell_type": "code",
      "metadata": {
        "id": "Cr-sZi8FTv0g",
        "colab_type": "code",
        "outputId": "5d8e9726-44dc-4bc7-a72d-d539885b14bc",
        "colab": {
          "base_uri": "https://localhost:8080/",
          "height": 386
        }
      },
      "source": [
        "model.summary()"
      ],
      "execution_count": 14,
      "outputs": [
        {
          "output_type": "stream",
          "text": [
            "Model: \"sequential_1\"\n",
            "_________________________________________________________________\n",
            "Layer (type)                 Output Shape              Param #   \n",
            "=================================================================\n",
            "conv2d_1 (Conv2D)            (None, 30, 30, 64)        1792      \n",
            "_________________________________________________________________\n",
            "max_pooling2d_1 (MaxPooling2 (None, 15, 15, 64)        0         \n",
            "_________________________________________________________________\n",
            "conv2d_2 (Conv2D)            (None, 13, 13, 64)        36928     \n",
            "_________________________________________________________________\n",
            "max_pooling2d_2 (MaxPooling2 (None, 6, 6, 64)          0         \n",
            "_________________________________________________________________\n",
            "flatten_1 (Flatten)          (None, 2304)              0         \n",
            "_________________________________________________________________\n",
            "dense_1 (Dense)              (None, 512)               1180160   \n",
            "_________________________________________________________________\n",
            "dense_2 (Dense)              (None, 46)                23598     \n",
            "=================================================================\n",
            "Total params: 1,242,478\n",
            "Trainable params: 1,242,478\n",
            "Non-trainable params: 0\n",
            "_________________________________________________________________\n"
          ],
          "name": "stdout"
        }
      ]
    },
    {
      "cell_type": "code",
      "metadata": {
        "id": "eBcPKSNGTxGg",
        "colab_type": "code",
        "colab": {}
      },
      "source": [
        "from keras import optimizers\n",
        "model.compile(loss = 'binary_crossentropy', optimizer = optimizers.RMSprop(lr=1e-4), metrics = ['acc'])"
      ],
      "execution_count": 0,
      "outputs": []
    },
    {
      "cell_type": "code",
      "metadata": {
        "id": "zEHcJFIST1w7",
        "colab_type": "code",
        "outputId": "ce3d6c16-d82c-483e-a1e6-f3d9ac2f2515",
        "colab": {
          "base_uri": "https://localhost:8080/",
          "height": 1000
        }
      },
      "source": [
        "history = model.fit_generator(train_generator, steps_per_epoch = 20, epochs = 50, validation_data = validation_generator, validation_steps = 50, callbacks = [mycallback])"
      ],
      "execution_count": 16,
      "outputs": [
        {
          "output_type": "stream",
          "text": [
            "Epoch 1/50\n",
            "20/20 [==============================] - 8s 409ms/step - loss: 0.3261 - acc: 0.9322 - val_loss: 0.1268 - val_acc: 0.9783\n",
            "Epoch 2/50\n",
            "20/20 [==============================] - 3s 130ms/step - loss: 0.1116 - acc: 0.9783 - val_loss: 0.1075 - val_acc: 0.9783\n",
            "Epoch 3/50\n",
            "20/20 [==============================] - 3s 137ms/step - loss: 0.1040 - acc: 0.9783 - val_loss: 0.1017 - val_acc: 0.9783\n",
            "Epoch 4/50\n",
            "20/20 [==============================] - 3s 136ms/step - loss: 0.0995 - acc: 0.9783 - val_loss: 0.0973 - val_acc: 0.9783\n",
            "Epoch 5/50\n",
            "20/20 [==============================] - 3s 137ms/step - loss: 0.0956 - acc: 0.9783 - val_loss: 0.0914 - val_acc: 0.9783\n",
            "Epoch 6/50\n",
            "20/20 [==============================] - 3s 140ms/step - loss: 0.0896 - acc: 0.9785 - val_loss: 0.0881 - val_acc: 0.9785\n",
            "Epoch 7/50\n",
            "20/20 [==============================] - 3s 130ms/step - loss: 0.0833 - acc: 0.9788 - val_loss: 0.0851 - val_acc: 0.9791\n",
            "Epoch 8/50\n",
            "20/20 [==============================] - 3s 130ms/step - loss: 0.0773 - acc: 0.9793 - val_loss: 0.0769 - val_acc: 0.9800\n",
            "Epoch 9/50\n",
            "20/20 [==============================] - 3s 130ms/step - loss: 0.0717 - acc: 0.9800 - val_loss: 0.0711 - val_acc: 0.9805\n",
            "Epoch 10/50\n",
            "20/20 [==============================] - 3s 128ms/step - loss: 0.0684 - acc: 0.9805 - val_loss: 0.0684 - val_acc: 0.9811\n",
            "Epoch 11/50\n",
            "20/20 [==============================] - 3s 130ms/step - loss: 0.0643 - acc: 0.9813 - val_loss: 0.0655 - val_acc: 0.9814\n",
            "Epoch 12/50\n",
            "20/20 [==============================] - 3s 125ms/step - loss: 0.0618 - acc: 0.9820 - val_loss: 0.0611 - val_acc: 0.9821\n",
            "Epoch 13/50\n",
            "20/20 [==============================] - 3s 129ms/step - loss: 0.0589 - acc: 0.9824 - val_loss: 0.0546 - val_acc: 0.9828\n",
            "Epoch 14/50\n",
            "20/20 [==============================] - 3s 132ms/step - loss: 0.0575 - acc: 0.9830 - val_loss: 0.0608 - val_acc: 0.9829\n",
            "Epoch 15/50\n",
            "20/20 [==============================] - 2s 122ms/step - loss: 0.0559 - acc: 0.9830 - val_loss: 0.0532 - val_acc: 0.9832\n",
            "Epoch 16/50\n",
            "20/20 [==============================] - 3s 132ms/step - loss: 0.0541 - acc: 0.9840 - val_loss: 0.0574 - val_acc: 0.9835\n",
            "Epoch 17/50\n",
            "20/20 [==============================] - 3s 133ms/step - loss: 0.0521 - acc: 0.9841 - val_loss: 0.0499 - val_acc: 0.9844\n",
            "Epoch 18/50\n",
            "20/20 [==============================] - 3s 133ms/step - loss: 0.0506 - acc: 0.9850 - val_loss: 0.0542 - val_acc: 0.9845\n",
            "Epoch 19/50\n",
            "20/20 [==============================] - 3s 129ms/step - loss: 0.0496 - acc: 0.9850 - val_loss: 0.0510 - val_acc: 0.9848\n",
            "Epoch 20/50\n",
            "20/20 [==============================] - 3s 132ms/step - loss: 0.0491 - acc: 0.9849 - val_loss: 0.0471 - val_acc: 0.9849\n",
            "Epoch 21/50\n",
            "20/20 [==============================] - 3s 130ms/step - loss: 0.0477 - acc: 0.9851 - val_loss: 0.0454 - val_acc: 0.9853\n",
            "Epoch 22/50\n",
            "20/20 [==============================] - 3s 132ms/step - loss: 0.0466 - acc: 0.9859 - val_loss: 0.0493 - val_acc: 0.9860\n",
            "Epoch 23/50\n",
            "20/20 [==============================] - 3s 135ms/step - loss: 0.0446 - acc: 0.9864 - val_loss: 0.0506 - val_acc: 0.9854\n",
            "Epoch 24/50\n",
            "20/20 [==============================] - 3s 127ms/step - loss: 0.0445 - acc: 0.9862 - val_loss: 0.0471 - val_acc: 0.9862\n",
            "Epoch 25/50\n",
            "20/20 [==============================] - 3s 133ms/step - loss: 0.0430 - acc: 0.9867 - val_loss: 0.0406 - val_acc: 0.9864\n",
            "Epoch 26/50\n",
            "20/20 [==============================] - 3s 129ms/step - loss: 0.0426 - acc: 0.9862 - val_loss: 0.0487 - val_acc: 0.9868\n",
            "Epoch 27/50\n",
            "20/20 [==============================] - 3s 134ms/step - loss: 0.0420 - acc: 0.9868 - val_loss: 0.0416 - val_acc: 0.9872\n",
            "Epoch 28/50\n",
            "20/20 [==============================] - 3s 132ms/step - loss: 0.0404 - acc: 0.9875 - val_loss: 0.0391 - val_acc: 0.9874\n",
            "Epoch 29/50\n",
            "20/20 [==============================] - 3s 126ms/step - loss: 0.0394 - acc: 0.9878 - val_loss: 0.0439 - val_acc: 0.9868\n",
            "Epoch 30/50\n",
            "20/20 [==============================] - 3s 130ms/step - loss: 0.0391 - acc: 0.9880 - val_loss: 0.0399 - val_acc: 0.9875\n",
            "Epoch 31/50\n",
            "20/20 [==============================] - 3s 131ms/step - loss: 0.0394 - acc: 0.9877 - val_loss: 0.0375 - val_acc: 0.9882\n",
            "Epoch 32/50\n",
            "20/20 [==============================] - 2s 113ms/step - loss: 0.0388 - acc: 0.9876 - val_loss: 0.0360 - val_acc: 0.9880\n",
            "Epoch 33/50\n",
            "20/20 [==============================] - 3s 135ms/step - loss: 0.0364 - acc: 0.9885 - val_loss: 0.0336 - val_acc: 0.9879\n",
            "Epoch 34/50\n",
            "20/20 [==============================] - 3s 133ms/step - loss: 0.0373 - acc: 0.9879 - val_loss: 0.0390 - val_acc: 0.9885\n",
            "Epoch 35/50\n",
            "20/20 [==============================] - 3s 132ms/step - loss: 0.0364 - acc: 0.9886 - val_loss: 0.0404 - val_acc: 0.9890\n",
            "Epoch 36/50\n",
            "20/20 [==============================] - 3s 130ms/step - loss: 0.0343 - acc: 0.9890 - val_loss: 0.0318 - val_acc: 0.9891\n",
            "Epoch 37/50\n",
            "20/20 [==============================] - 3s 128ms/step - loss: 0.0338 - acc: 0.9889 - val_loss: 0.0323 - val_acc: 0.9891\n",
            "Epoch 38/50\n",
            "20/20 [==============================] - 3s 130ms/step - loss: 0.0328 - acc: 0.9895 - val_loss: 0.0398 - val_acc: 0.9888\n",
            "Epoch 39/50\n",
            "20/20 [==============================] - 2s 103ms/step - loss: 0.0331 - acc: 0.9890 - val_loss: 0.0291 - val_acc: 0.9893\n",
            "Epoch 40/50\n",
            "20/20 [==============================] - 3s 143ms/step - loss: 0.0315 - acc: 0.9898 - val_loss: 0.0343 - val_acc: 0.9899\n",
            "Epoch 41/50\n",
            "20/20 [==============================] - 3s 129ms/step - loss: 0.0300 - acc: 0.9902 - val_loss: 0.0322 - val_acc: 0.9899\n",
            "99 percent accuracy reached, so stopping\n"
          ],
          "name": "stdout"
        }
      ]
    },
    {
      "cell_type": "code",
      "metadata": {
        "id": "V5F-kQiWT95s",
        "colab_type": "code",
        "colab": {}
      },
      "source": [
        ""
      ],
      "execution_count": 0,
      "outputs": []
    }
  ]
}
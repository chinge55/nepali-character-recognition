{
  "nbformat": 4,
  "nbformat_minor": 0,
  "metadata": {
    "colab": {
      "name": "Nepali Character Recognition2.ipynb",
      "provenance": [],
      "collapsed_sections": [],
      "authorship_tag": "ABX9TyMsUSmgOCj14hAHUA54372f"
    },
    "kernelspec": {
      "name": "python3",
      "display_name": "Python 3"
    },
    "accelerator": "GPU"
  },
  "cells": [
    {
      "cell_type": "code",
      "metadata": {
        "id": "02bPXmpsOBJl",
        "colab_type": "code",
        "outputId": "adf1861f-ff43-49bc-81a6-8b6713f3a4c6",
        "colab": {
          "base_uri": "https://localhost:8080/",
          "height": 118
        }
      },
      "source": [
        "!git clone https://github.com/kcnishan/Nepali_handwritten_digits_recognition"
      ],
      "execution_count": 1,
      "outputs": [
        {
          "output_type": "stream",
          "text": [
            "Cloning into 'Nepali_handwritten_digits_recognition'...\n",
            "remote: Enumerating objects: 92087, done.\u001b[K\n",
            "remote: Total 92087 (delta 0), reused 0 (delta 0), pack-reused 92087\u001b[K\n",
            "Receiving objects: 100% (92087/92087), 67.09 MiB | 26.41 MiB/s, done.\n",
            "Resolving deltas: 100% (3/3), done.\n",
            "Checking out files: 100% (92306/92306), done.\n"
          ],
          "name": "stdout"
        }
      ]
    },
    {
      "cell_type": "code",
      "metadata": {
        "id": "eCXeVK1KONX2",
        "colab_type": "code",
        "colab": {}
      },
      "source": [
        "import os\n",
        "base_dir = 'Nepali_handwritten_digits_recognition/dataset/'\n",
        "train_dir = os.path.join(base_dir, 'Train')\n",
        "test_dir = os.path.join(base_dir, 'Test')\n",
        "train_consonant_dir = os.path.join(train_dir, 'consonants/')\n",
        "train_digits_dir = os.path.join(train_dir, 'digits/')\n",
        "test_consonant_dir = os.path.join(test_dir, 'consonants/')\n",
        "test_digits_dir = os.path.join(test_dir, 'digits/')"
      ],
      "execution_count": 0,
      "outputs": []
    },
    {
      "cell_type": "code",
      "metadata": {
        "id": "wC1VHG-6PDnK",
        "colab_type": "code",
        "colab": {}
      },
      "source": [
        "import shutil\n",
        "import tensorflow as tf\n",
        "class customCallback(tf.keras.callbacks.Callback):\n",
        "  def on_epoch_end(self, epoch, logs = {}):\n",
        "    if(logs.get('acc')>0.99):\n",
        "      print(\"99 percent accuracy reached, so stopping\")\n",
        "      self.model.stop_training = True\n",
        "mycallback = customCallback()"
      ],
      "execution_count": 0,
      "outputs": []
    },
    {
      "cell_type": "code",
      "metadata": {
        "id": "eEpUPXCmPYSU",
        "colab_type": "code",
        "outputId": "523b7a15-8e8b-41e7-d72c-2c107ab738b4",
        "colab": {
          "base_uri": "https://localhost:8080/",
          "height": 185
        }
      },
      "source": [
        "for direct in os.listdir(train_digits_dir):\n",
        "  print(direct)\n",
        "  prev_data_path = os.path.join(train_digits_dir, direct)\n",
        "  new_data_path = os.path.join(train_consonant_dir, direct)\n",
        "  shutil.copytree(prev_data_path, new_data_path)"
      ],
      "execution_count": 4,
      "outputs": [
        {
          "output_type": "stream",
          "text": [
            "digit_0\n",
            "digit_4\n",
            "digit_8\n",
            "digit_9\n",
            "digit_6\n",
            "digit_5\n",
            "digit_2\n",
            "digit_3\n",
            "digit_1\n",
            "digit_7\n"
          ],
          "name": "stdout"
        }
      ]
    },
    {
      "cell_type": "code",
      "metadata": {
        "id": "aHfY6l_TPcGS",
        "colab_type": "code",
        "outputId": "f8aa594f-d6c4-43b1-c881-920f23ec247a",
        "colab": {
          "base_uri": "https://localhost:8080/",
          "height": 790
        }
      },
      "source": [
        "os.listdir(train_consonant_dir)"
      ],
      "execution_count": 5,
      "outputs": [
        {
          "output_type": "execute_result",
          "data": {
            "text/plain": [
              "['character_12_thaa',\n",
              " 'character_22_pha',\n",
              " 'character_28_la',\n",
              " 'character_16_tabala',\n",
              " 'character_36_gya',\n",
              " 'character_4_gha',\n",
              " 'character_8_ja',\n",
              " 'character_25_ma',\n",
              " 'character_2_kha',\n",
              " 'character_10_yna',\n",
              " 'character_14_dhaa',\n",
              " 'digit_0',\n",
              " 'character_33_ha',\n",
              " 'character_11_taamatar',\n",
              " 'character_29_waw',\n",
              " 'digit_4',\n",
              " 'character_30_motosaw',\n",
              " 'character_26_yaw',\n",
              " 'character_27_ra',\n",
              " 'character_9_jha',\n",
              " 'character_34_chhya',\n",
              " 'character_19_dha',\n",
              " 'character_3_ga',\n",
              " 'digit_8',\n",
              " 'character_23_ba',\n",
              " 'digit_9',\n",
              " 'digit_6',\n",
              " 'character_7_chha',\n",
              " 'character_21_pa',\n",
              " 'digit_5',\n",
              " 'digit_2',\n",
              " 'character_31_petchiryakha',\n",
              " 'character_20_na',\n",
              " 'character_18_da',\n",
              " 'character_35_tra',\n",
              " 'digit_3',\n",
              " 'character_13_daa',\n",
              " 'character_17_tha',\n",
              " 'character_32_patalosaw',\n",
              " 'character_1_ka',\n",
              " 'digit_1',\n",
              " 'digit_7',\n",
              " 'character_24_bha',\n",
              " 'character_6_cha',\n",
              " 'character_5_kna',\n",
              " 'character_15_adna']"
            ]
          },
          "metadata": {
            "tags": []
          },
          "execution_count": 5
        }
      ]
    },
    {
      "cell_type": "code",
      "metadata": {
        "id": "3TS9YQQ-R02w",
        "colab_type": "code",
        "outputId": "0177242f-42cc-498e-e15e-64143b968e21",
        "colab": {
          "base_uri": "https://localhost:8080/",
          "height": 185
        }
      },
      "source": [
        "direct = \" \"\n",
        "for direct in os.listdir(test_digits_dir):\n",
        "  print(direct)\n",
        "  prev_data_path = os.path.join(test_digits_dir, direct)\n",
        "  new_data_path = os.path.join(test_consonant_dir, direct)\n",
        "  shutil.copytree(prev_data_path, new_data_path)"
      ],
      "execution_count": 6,
      "outputs": [
        {
          "output_type": "stream",
          "text": [
            "digit_0\n",
            "digit_4\n",
            "digit_8\n",
            "digit_9\n",
            "digit_6\n",
            "digit_5\n",
            "digit_2\n",
            "digit_3\n",
            "digit_1\n",
            "digit_7\n"
          ],
          "name": "stdout"
        }
      ]
    },
    {
      "cell_type": "code",
      "metadata": {
        "id": "dpX8Ka6CR-Qb",
        "colab_type": "code",
        "outputId": "3d249466-ff25-42ec-eeae-e880e66edba3",
        "colab": {
          "base_uri": "https://localhost:8080/",
          "height": 34
        }
      },
      "source": [
        "import cv2\n",
        "image = cv2.imread(test_consonant_dir+'/'+'digit_0'+'/'+'103277.png')\n",
        "print(image.shape)"
      ],
      "execution_count": 7,
      "outputs": [
        {
          "output_type": "stream",
          "text": [
            "(32, 32, 3)\n"
          ],
          "name": "stdout"
        }
      ]
    },
    {
      "cell_type": "code",
      "metadata": {
        "id": "_Ctfnp7pSZkv",
        "colab_type": "code",
        "outputId": "bd93f0f9-c657-497b-d451-aee77061a8e5",
        "colab": {
          "base_uri": "https://localhost:8080/",
          "height": 50
        }
      },
      "source": [
        "from keras.preprocessing.image import ImageDataGenerator\n",
        "train_datagen = ImageDataGenerator(rescale=1./255)\n",
        "test_datagen = ImageDataGenerator(rescale=1./255)\n",
        "train_generator = train_datagen.flow_from_directory(train_consonant_dir, target_size = (32, 32), batch_size = 100, class_mode = 'categorical')"
      ],
      "execution_count": 8,
      "outputs": [
        {
          "output_type": "stream",
          "text": [
            "Using TensorFlow backend.\n"
          ],
          "name": "stderr"
        },
        {
          "output_type": "stream",
          "text": [
            "Found 78200 images belonging to 46 classes.\n"
          ],
          "name": "stdout"
        }
      ]
    },
    {
      "cell_type": "code",
      "metadata": {
        "id": "6amWC-LQSgSz",
        "colab_type": "code",
        "outputId": "1394ab0e-d47b-4375-8a21-739a7301ab68",
        "colab": {
          "base_uri": "https://localhost:8080/",
          "height": 34
        }
      },
      "source": [
        "validation_generator = test_datagen.flow_from_directory(test_consonant_dir, target_size = (32, 32), batch_size = 100, class_mode = 'categorical')"
      ],
      "execution_count": 9,
      "outputs": [
        {
          "output_type": "stream",
          "text": [
            "Found 14100 images belonging to 46 classes.\n"
          ],
          "name": "stdout"
        }
      ]
    },
    {
      "cell_type": "code",
      "metadata": {
        "id": "-Rrh6phcS22I",
        "colab_type": "code",
        "outputId": "b792c09d-450a-4afa-f648-60c84d0e8bc0",
        "colab": {
          "base_uri": "https://localhost:8080/",
          "height": 50
        }
      },
      "source": [
        "#generator yields batches indefinitely: so we need to break the iteration loop at some point\n",
        "for data_batch, labels_batch in train_generator:\n",
        "    print('data_batch_shape:', data_batch.shape)\n",
        "    print('labels_batch_shape:', labels_batch.shape)\n",
        "    break"
      ],
      "execution_count": 10,
      "outputs": [
        {
          "output_type": "stream",
          "text": [
            "data_batch_shape: (100, 32, 32, 3)\n",
            "labels_batch_shape: (100, 46)\n"
          ],
          "name": "stdout"
        }
      ]
    },
    {
      "cell_type": "code",
      "metadata": {
        "id": "1gvapfPgS7ym",
        "colab_type": "code",
        "colab": {}
      },
      "source": [
        "str_labels = os.listdir(test_consonant_dir)"
      ],
      "execution_count": 0,
      "outputs": []
    },
    {
      "cell_type": "code",
      "metadata": {
        "id": "bOhnnJw9TivO",
        "colab_type": "code",
        "colab": {}
      },
      "source": [
        "#building the neural newtork\n",
        "from keras import layers\n",
        "from keras import models\n",
        "model = models.Sequential()"
      ],
      "execution_count": 0,
      "outputs": []
    },
    {
      "cell_type": "code",
      "metadata": {
        "id": "F4EmibuZTqUD",
        "colab_type": "code",
        "colab": {}
      },
      "source": [
        "model.add(layers.Conv2D(64, (3,3), activation = 'relu', input_shape = (32, 32, 3)))\n",
        "model.add(layers.MaxPooling2D((2,2)))\n",
        "model.add(layers.Conv2D(64, (3,3), activation = 'relu'))\n",
        "model.add(layers.MaxPooling2D((2,2)))\n",
        "model.add(layers.Flatten())\n",
        "model.add(layers.Dense(512, activation = 'relu'))\n",
        "model.add(layers.Dense(46, activation = 'softmax'))"
      ],
      "execution_count": 0,
      "outputs": []
    },
    {
      "cell_type": "code",
      "metadata": {
        "id": "Cr-sZi8FTv0g",
        "colab_type": "code",
        "outputId": "ffdcd5ad-95c2-484d-9749-dc15f8622253",
        "colab": {
          "base_uri": "https://localhost:8080/",
          "height": 386
        }
      },
      "source": [
        "model.summary()"
      ],
      "execution_count": 14,
      "outputs": [
        {
          "output_type": "stream",
          "text": [
            "Model: \"sequential_1\"\n",
            "_________________________________________________________________\n",
            "Layer (type)                 Output Shape              Param #   \n",
            "=================================================================\n",
            "conv2d_1 (Conv2D)            (None, 30, 30, 64)        1792      \n",
            "_________________________________________________________________\n",
            "max_pooling2d_1 (MaxPooling2 (None, 15, 15, 64)        0         \n",
            "_________________________________________________________________\n",
            "conv2d_2 (Conv2D)            (None, 13, 13, 64)        36928     \n",
            "_________________________________________________________________\n",
            "max_pooling2d_2 (MaxPooling2 (None, 6, 6, 64)          0         \n",
            "_________________________________________________________________\n",
            "flatten_1 (Flatten)          (None, 2304)              0         \n",
            "_________________________________________________________________\n",
            "dense_1 (Dense)              (None, 512)               1180160   \n",
            "_________________________________________________________________\n",
            "dense_2 (Dense)              (None, 46)                23598     \n",
            "=================================================================\n",
            "Total params: 1,242,478\n",
            "Trainable params: 1,242,478\n",
            "Non-trainable params: 0\n",
            "_________________________________________________________________\n"
          ],
          "name": "stdout"
        }
      ]
    },
    {
      "cell_type": "code",
      "metadata": {
        "id": "eBcPKSNGTxGg",
        "colab_type": "code",
        "colab": {}
      },
      "source": [
        "from keras import optimizers\n",
        "model.compile(loss = 'categorical_crossentropy', optimizer = 'adam', metrics = ['acc'])"
      ],
      "execution_count": 0,
      "outputs": []
    },
    {
      "cell_type": "code",
      "metadata": {
        "id": "zEHcJFIST1w7",
        "colab_type": "code",
        "outputId": "d5632035-568d-4527-b5cd-6476c3f90c98",
        "colab": {
          "base_uri": "https://localhost:8080/",
          "height": 1000
        }
      },
      "source": [
        "history = model.fit_generator(train_generator, steps_per_epoch = 20, epochs = 50, validation_data = validation_generator, validation_steps = 50, callbacks = [mycallback])"
      ],
      "execution_count": 17,
      "outputs": [
        {
          "output_type": "stream",
          "text": [
            "Epoch 1/50\n",
            "20/20 [==============================] - 9s 425ms/step - loss: 3.2751 - acc: 0.2110 - val_loss: 2.1313 - val_acc: 0.3958\n",
            "Epoch 2/50\n",
            "20/20 [==============================] - 2s 87ms/step - loss: 1.7286 - acc: 0.5400 - val_loss: 1.5442 - val_acc: 0.6432\n",
            "Epoch 3/50\n",
            "20/20 [==============================] - 2s 92ms/step - loss: 1.1582 - acc: 0.6640 - val_loss: 0.9176 - val_acc: 0.7282\n",
            "Epoch 4/50\n",
            "20/20 [==============================] - 2s 89ms/step - loss: 0.8926 - acc: 0.7480 - val_loss: 0.8666 - val_acc: 0.7742\n",
            "Epoch 5/50\n",
            "20/20 [==============================] - 2s 87ms/step - loss: 0.7143 - acc: 0.8010 - val_loss: 1.0924 - val_acc: 0.7818\n",
            "Epoch 6/50\n",
            "20/20 [==============================] - 2s 90ms/step - loss: 0.5792 - acc: 0.8415 - val_loss: 0.6435 - val_acc: 0.8292\n",
            "Epoch 7/50\n",
            "20/20 [==============================] - 2s 87ms/step - loss: 0.5093 - acc: 0.8455 - val_loss: 0.7861 - val_acc: 0.8496\n",
            "Epoch 8/50\n",
            "20/20 [==============================] - 2s 87ms/step - loss: 0.5006 - acc: 0.8515 - val_loss: 0.6126 - val_acc: 0.8394\n",
            "Epoch 9/50\n",
            "20/20 [==============================] - 2s 91ms/step - loss: 0.4508 - acc: 0.8640 - val_loss: 0.5812 - val_acc: 0.8590\n",
            "Epoch 10/50\n",
            "20/20 [==============================] - 2s 88ms/step - loss: 0.3961 - acc: 0.8730 - val_loss: 0.4576 - val_acc: 0.8638\n",
            "Epoch 11/50\n",
            "20/20 [==============================] - 2s 87ms/step - loss: 0.3215 - acc: 0.9030 - val_loss: 0.6065 - val_acc: 0.8836\n",
            "Epoch 12/50\n",
            "20/20 [==============================] - 2s 83ms/step - loss: 0.3503 - acc: 0.8990 - val_loss: 0.4043 - val_acc: 0.8782\n",
            "Epoch 13/50\n",
            "20/20 [==============================] - 2s 87ms/step - loss: 0.3242 - acc: 0.9080 - val_loss: 0.8449 - val_acc: 0.8974\n",
            "Epoch 14/50\n",
            "20/20 [==============================] - 2s 87ms/step - loss: 0.2998 - acc: 0.9065 - val_loss: 0.2759 - val_acc: 0.8906\n",
            "Epoch 15/50\n",
            "20/20 [==============================] - 2s 80ms/step - loss: 0.3186 - acc: 0.9030 - val_loss: 0.7587 - val_acc: 0.8922\n",
            "Epoch 16/50\n",
            "20/20 [==============================] - 2s 90ms/step - loss: 0.2940 - acc: 0.9155 - val_loss: 0.5538 - val_acc: 0.8986\n",
            "Epoch 17/50\n",
            "20/20 [==============================] - 2s 87ms/step - loss: 0.2800 - acc: 0.9120 - val_loss: 0.2765 - val_acc: 0.8960\n",
            "Epoch 18/50\n",
            "20/20 [==============================] - 2s 91ms/step - loss: 0.2827 - acc: 0.9095 - val_loss: 0.7634 - val_acc: 0.9012\n",
            "Epoch 19/50\n",
            "20/20 [==============================] - 2s 88ms/step - loss: 0.2456 - acc: 0.9285 - val_loss: 0.4862 - val_acc: 0.9226\n",
            "Epoch 20/50\n",
            "20/20 [==============================] - 2s 85ms/step - loss: 0.1942 - acc: 0.9420 - val_loss: 0.5094 - val_acc: 0.9112\n",
            "Epoch 21/50\n",
            "20/20 [==============================] - 2s 89ms/step - loss: 0.2597 - acc: 0.9205 - val_loss: 0.4601 - val_acc: 0.9006\n",
            "Epoch 22/50\n",
            "20/20 [==============================] - 2s 89ms/step - loss: 0.2417 - acc: 0.9290 - val_loss: 0.2706 - val_acc: 0.9234\n",
            "Epoch 23/50\n",
            "20/20 [==============================] - 2s 89ms/step - loss: 0.2004 - acc: 0.9425 - val_loss: 0.4853 - val_acc: 0.9148\n",
            "Epoch 24/50\n",
            "20/20 [==============================] - 2s 89ms/step - loss: 0.1865 - acc: 0.9460 - val_loss: 0.3439 - val_acc: 0.9266\n",
            "Epoch 25/50\n",
            "20/20 [==============================] - 2s 89ms/step - loss: 0.2050 - acc: 0.9435 - val_loss: 0.2610 - val_acc: 0.9208\n",
            "Epoch 26/50\n",
            "20/20 [==============================] - 2s 87ms/step - loss: 0.1885 - acc: 0.9445 - val_loss: 0.3582 - val_acc: 0.9240\n",
            "Epoch 27/50\n",
            "20/20 [==============================] - 2s 91ms/step - loss: 0.1918 - acc: 0.9405 - val_loss: 0.3687 - val_acc: 0.9252\n",
            "Epoch 28/50\n",
            "20/20 [==============================] - 2s 87ms/step - loss: 0.1765 - acc: 0.9445 - val_loss: 0.2149 - val_acc: 0.9286\n",
            "Epoch 29/50\n",
            "20/20 [==============================] - 2s 82ms/step - loss: 0.1738 - acc: 0.9485 - val_loss: 0.7749 - val_acc: 0.9340\n",
            "Epoch 30/50\n",
            "20/20 [==============================] - 2s 89ms/step - loss: 0.1816 - acc: 0.9460 - val_loss: 0.4094 - val_acc: 0.9220\n",
            "Epoch 31/50\n",
            "20/20 [==============================] - 2s 87ms/step - loss: 0.1949 - acc: 0.9445 - val_loss: 0.4763 - val_acc: 0.9344\n",
            "Epoch 32/50\n",
            "20/20 [==============================] - 1s 74ms/step - loss: 0.1645 - acc: 0.9505 - val_loss: 0.1579 - val_acc: 0.9248\n",
            "Epoch 33/50\n",
            "20/20 [==============================] - 2s 90ms/step - loss: 0.1563 - acc: 0.9565 - val_loss: 0.4385 - val_acc: 0.9390\n",
            "Epoch 34/50\n",
            "20/20 [==============================] - 2s 88ms/step - loss: 0.1507 - acc: 0.9565 - val_loss: 0.5720 - val_acc: 0.9284\n",
            "Epoch 35/50\n",
            "20/20 [==============================] - 2s 87ms/step - loss: 0.1641 - acc: 0.9575 - val_loss: 0.2513 - val_acc: 0.9348\n",
            "Epoch 36/50\n",
            "20/20 [==============================] - 2s 89ms/step - loss: 0.1593 - acc: 0.9525 - val_loss: 0.5269 - val_acc: 0.9290\n",
            "Epoch 37/50\n",
            "20/20 [==============================] - 2s 88ms/step - loss: 0.1754 - acc: 0.9490 - val_loss: 0.3580 - val_acc: 0.9426\n",
            "Epoch 38/50\n",
            "20/20 [==============================] - 2s 86ms/step - loss: 0.1593 - acc: 0.9525 - val_loss: 0.6302 - val_acc: 0.9376\n",
            "Epoch 39/50\n",
            "20/20 [==============================] - 1s 70ms/step - loss: 0.1557 - acc: 0.9560 - val_loss: 0.2699 - val_acc: 0.9332\n",
            "Epoch 40/50\n",
            "20/20 [==============================] - 2s 96ms/step - loss: 0.0987 - acc: 0.9685 - val_loss: 0.9228 - val_acc: 0.9332\n",
            "Epoch 41/50\n",
            "20/20 [==============================] - 2s 85ms/step - loss: 0.0833 - acc: 0.9745 - val_loss: 0.2365 - val_acc: 0.9318\n",
            "Epoch 42/50\n",
            "20/20 [==============================] - 2s 87ms/step - loss: 0.1169 - acc: 0.9680 - val_loss: 0.2338 - val_acc: 0.9408\n",
            "Epoch 43/50\n",
            "20/20 [==============================] - 2s 79ms/step - loss: 0.1110 - acc: 0.9645 - val_loss: 0.2639 - val_acc: 0.9348\n",
            "Epoch 44/50\n",
            "20/20 [==============================] - 2s 85ms/step - loss: 0.0999 - acc: 0.9635 - val_loss: 0.2614 - val_acc: 0.9420\n",
            "Epoch 45/50\n",
            "20/20 [==============================] - 2s 86ms/step - loss: 0.0822 - acc: 0.9765 - val_loss: 0.1165 - val_acc: 0.9408\n",
            "Epoch 46/50\n",
            "20/20 [==============================] - 2s 76ms/step - loss: 0.0920 - acc: 0.9750 - val_loss: 0.7583 - val_acc: 0.9382\n",
            "Epoch 47/50\n",
            "20/20 [==============================] - 2s 84ms/step - loss: 0.0752 - acc: 0.9740 - val_loss: 0.4728 - val_acc: 0.9476\n",
            "Epoch 48/50\n",
            "20/20 [==============================] - 2s 86ms/step - loss: 0.1029 - acc: 0.9700 - val_loss: 0.2816 - val_acc: 0.9376\n",
            "Epoch 49/50\n",
            "20/20 [==============================] - 2s 85ms/step - loss: 0.0917 - acc: 0.9725 - val_loss: 0.1235 - val_acc: 0.9432\n",
            "Epoch 50/50\n",
            "20/20 [==============================] - 2s 86ms/step - loss: 0.1165 - acc: 0.9590 - val_loss: 0.0973 - val_acc: 0.9362\n"
          ],
          "name": "stdout"
        }
      ]
    },
    {
      "cell_type": "code",
      "metadata": {
        "id": "V5F-kQiWT95s",
        "colab_type": "code",
        "colab": {}
      },
      "source": [
        ""
      ],
      "execution_count": 0,
      "outputs": []
    }
  ]
}
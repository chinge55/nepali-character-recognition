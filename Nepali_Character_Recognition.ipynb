{
  "nbformat": 4,
  "nbformat_minor": 0,
  "metadata": {
    "colab": {
      "name": "Nepali Character Recognition.ipynb",
      "provenance": []
    },
    "kernelspec": {
      "name": "python3",
      "display_name": "Python 3"
    },
    "accelerator": "GPU"
  },
  "cells": [
    {
      "cell_type": "code",
      "metadata": {
        "id": "02bPXmpsOBJl",
        "colab_type": "code",
        "outputId": "1563c664-fd1b-4e30-a595-1fc91a832fc3",
        "colab": {
          "base_uri": "https://localhost:8080/",
          "height": 118
        }
      },
      "source": [
        "!git clone https://github.com/kcnishan/Nepali_handwritten_digits_recognition"
      ],
      "execution_count": 1,
      "outputs": [
        {
          "output_type": "stream",
          "text": [
            "Cloning into 'Nepali_handwritten_digits_recognition'...\n",
            "remote: Enumerating objects: 92087, done.\u001b[K\n",
            "remote: Total 92087 (delta 0), reused 0 (delta 0), pack-reused 92087\u001b[K\n",
            "Receiving objects: 100% (92087/92087), 67.09 MiB | 36.10 MiB/s, done.\n",
            "Resolving deltas: 100% (3/3), done.\n",
            "Checking out files: 100% (92306/92306), done.\n"
          ],
          "name": "stdout"
        }
      ]
    },
    {
      "cell_type": "code",
      "metadata": {
        "id": "eCXeVK1KONX2",
        "colab_type": "code",
        "colab": {}
      },
      "source": [
        "import os\n",
        "base_dir = 'Nepali_handwritten_digits_recognition/dataset/'\n",
        "train_dir = os.path.join(base_dir, 'Train')\n",
        "test_dir = os.path.join(base_dir, 'Test')\n",
        "train_consonant_dir = os.path.join(train_dir, 'consonants/')\n",
        "train_digits_dir = os.path.join(train_dir, 'digits/')\n",
        "test_consonant_dir = os.path.join(test_dir, 'consonants/')\n",
        "test_digits_dir = os.path.join(test_dir, 'digits/')"
      ],
      "execution_count": 0,
      "outputs": []
    },
    {
      "cell_type": "code",
      "metadata": {
        "id": "wC1VHG-6PDnK",
        "colab_type": "code",
        "colab": {}
      },
      "source": [
        "import shutil"
      ],
      "execution_count": 0,
      "outputs": []
    },
    {
      "cell_type": "code",
      "metadata": {
        "id": "eEpUPXCmPYSU",
        "colab_type": "code",
        "outputId": "d80c4ce0-d3b9-4464-bf51-3e0341dfb26a",
        "colab": {
          "base_uri": "https://localhost:8080/",
          "height": 185
        }
      },
      "source": [
        "for direct in os.listdir(train_digits_dir):\n",
        "  print(direct)\n",
        "  prev_data_path = os.path.join(train_digits_dir, direct)\n",
        "  new_data_path = os.path.join(train_consonant_dir, direct)\n",
        "  shutil.copytree(prev_data_path, new_data_path)"
      ],
      "execution_count": 4,
      "outputs": [
        {
          "output_type": "stream",
          "text": [
            "digit_6\n",
            "digit_3\n",
            "digit_9\n",
            "digit_7\n",
            "digit_5\n",
            "digit_2\n",
            "digit_8\n",
            "digit_0\n",
            "digit_4\n",
            "digit_1\n"
          ],
          "name": "stdout"
        }
      ]
    },
    {
      "cell_type": "code",
      "metadata": {
        "id": "aHfY6l_TPcGS",
        "colab_type": "code",
        "outputId": "18be2190-7f02-441a-8dbb-846779fd496f",
        "colab": {
          "base_uri": "https://localhost:8080/",
          "height": 790
        }
      },
      "source": [
        "os.listdir(train_consonant_dir)"
      ],
      "execution_count": 5,
      "outputs": [
        {
          "output_type": "execute_result",
          "data": {
            "text/plain": [
              "['digit_6',\n",
              " 'character_33_ha',\n",
              " 'character_34_chhya',\n",
              " 'character_32_patalosaw',\n",
              " 'character_14_dhaa',\n",
              " 'character_2_kha',\n",
              " 'character_35_tra',\n",
              " 'character_6_cha',\n",
              " 'character_13_daa',\n",
              " 'character_28_la',\n",
              " 'character_12_thaa',\n",
              " 'character_19_dha',\n",
              " 'character_15_adna',\n",
              " 'character_17_tha',\n",
              " 'character_9_jha',\n",
              " 'digit_3',\n",
              " 'character_3_ga',\n",
              " 'character_22_pha',\n",
              " 'character_11_taamatar',\n",
              " 'character_24_bha',\n",
              " 'character_20_na',\n",
              " 'character_7_chha',\n",
              " 'digit_9',\n",
              " 'digit_7',\n",
              " 'character_27_ra',\n",
              " 'character_26_yaw',\n",
              " 'digit_5',\n",
              " 'character_29_waw',\n",
              " 'digit_2',\n",
              " 'character_23_ba',\n",
              " 'digit_8',\n",
              " 'character_21_pa',\n",
              " 'character_30_motosaw',\n",
              " 'character_25_ma',\n",
              " 'character_10_yna',\n",
              " 'digit_0',\n",
              " 'character_8_ja',\n",
              " 'character_36_gya',\n",
              " 'digit_4',\n",
              " 'character_16_tabala',\n",
              " 'character_4_gha',\n",
              " 'digit_1',\n",
              " 'character_31_petchiryakha',\n",
              " 'character_1_ka',\n",
              " 'character_5_kna',\n",
              " 'character_18_da']"
            ]
          },
          "metadata": {
            "tags": []
          },
          "execution_count": 5
        }
      ]
    },
    {
      "cell_type": "code",
      "metadata": {
        "id": "3TS9YQQ-R02w",
        "colab_type": "code",
        "outputId": "714a91ee-0f67-427f-fa83-b6a76f4e4f46",
        "colab": {
          "base_uri": "https://localhost:8080/",
          "height": 185
        }
      },
      "source": [
        "direct = \" \"\n",
        "for direct in os.listdir(test_digits_dir):\n",
        "  print(direct)\n",
        "  prev_data_path = os.path.join(test_digits_dir, direct)\n",
        "  new_data_path = os.path.join(test_consonant_dir, direct)\n",
        "  shutil.copytree(prev_data_path, new_data_path)"
      ],
      "execution_count": 6,
      "outputs": [
        {
          "output_type": "stream",
          "text": [
            "digit_6\n",
            "digit_3\n",
            "digit_9\n",
            "digit_7\n",
            "digit_5\n",
            "digit_2\n",
            "digit_8\n",
            "digit_0\n",
            "digit_4\n",
            "digit_1\n"
          ],
          "name": "stdout"
        }
      ]
    },
    {
      "cell_type": "code",
      "metadata": {
        "id": "dpX8Ka6CR-Qb",
        "colab_type": "code",
        "outputId": "cefaba7b-655b-49f2-ad85-a705e768e8c5",
        "colab": {
          "base_uri": "https://localhost:8080/",
          "height": 34
        }
      },
      "source": [
        "import cv2\n",
        "image = cv2.imread(test_consonant_dir+'/'+'digit_0'+'/'+'103277.png')\n",
        "print(image.shape)"
      ],
      "execution_count": 7,
      "outputs": [
        {
          "output_type": "stream",
          "text": [
            "(32, 32, 3)\n"
          ],
          "name": "stdout"
        }
      ]
    },
    {
      "cell_type": "code",
      "metadata": {
        "id": "_Ctfnp7pSZkv",
        "colab_type": "code",
        "outputId": "896271c0-bfde-4f8a-dad5-27d126acef91",
        "colab": {
          "base_uri": "https://localhost:8080/",
          "height": 50
        }
      },
      "source": [
        "from keras.preprocessing.image import ImageDataGenerator\n",
        "train_datagen = ImageDataGenerator(rescale=1./255)\n",
        "test_datagen = ImageDataGenerator(rescale=1./255)\n",
        "train_generator = train_datagen.flow_from_directory(train_consonant_dir, target_size = (32, 32), batch_size = 100, class_mode = 'categorical')"
      ],
      "execution_count": 8,
      "outputs": [
        {
          "output_type": "stream",
          "text": [
            "Using TensorFlow backend.\n"
          ],
          "name": "stderr"
        },
        {
          "output_type": "stream",
          "text": [
            "Found 78200 images belonging to 46 classes.\n"
          ],
          "name": "stdout"
        }
      ]
    },
    {
      "cell_type": "code",
      "metadata": {
        "id": "6amWC-LQSgSz",
        "colab_type": "code",
        "outputId": "d7a73e0e-24b3-420c-f48f-9b08750e1323",
        "colab": {
          "base_uri": "https://localhost:8080/",
          "height": 34
        }
      },
      "source": [
        "validation_generator = test_datagen.flow_from_directory(test_consonant_dir, target_size = (32, 32), batch_size = 100, class_mode = 'categorical')"
      ],
      "execution_count": 9,
      "outputs": [
        {
          "output_type": "stream",
          "text": [
            "Found 14100 images belonging to 46 classes.\n"
          ],
          "name": "stdout"
        }
      ]
    },
    {
      "cell_type": "code",
      "metadata": {
        "id": "-Rrh6phcS22I",
        "colab_type": "code",
        "outputId": "bcd8cac8-b735-4990-910a-5cd12b054310",
        "colab": {
          "base_uri": "https://localhost:8080/",
          "height": 50
        }
      },
      "source": [
        "#generator yields batches indefinitely: so we need to break the iteration loop at some point\n",
        "for data_batch, labels_batch in train_generator:\n",
        "    print('data_batch_shape:', data_batch.shape)\n",
        "    print('labels_batch_shape:', labels_batch.shape)\n",
        "    break"
      ],
      "execution_count": 10,
      "outputs": [
        {
          "output_type": "stream",
          "text": [
            "data_batch_shape: (100, 32, 32, 3)\n",
            "labels_batch_shape: (100, 46)\n"
          ],
          "name": "stdout"
        }
      ]
    },
    {
      "cell_type": "code",
      "metadata": {
        "id": "1gvapfPgS7ym",
        "colab_type": "code",
        "colab": {}
      },
      "source": [
        "str_labels = os.listdir(test_consonant_dir)"
      ],
      "execution_count": 0,
      "outputs": []
    },
    {
      "cell_type": "code",
      "metadata": {
        "id": "bOhnnJw9TivO",
        "colab_type": "code",
        "colab": {}
      },
      "source": [
        "#building the neural newtork\n",
        "from keras import layers\n",
        "from keras import models\n",
        "model = models.Sequential()"
      ],
      "execution_count": 0,
      "outputs": []
    },
    {
      "cell_type": "code",
      "metadata": {
        "id": "F4EmibuZTqUD",
        "colab_type": "code",
        "colab": {}
      },
      "source": [
        "model.add(layers.Conv2D(32, (3,3), activation = 'relu', input_shape = (32, 32, 3)))\n",
        "model.add(layers.MaxPooling2D((2,2)))\n",
        "model.add(layers.Conv2D(64, (3,3), activation = 'relu'))\n",
        "model.add(layers.MaxPooling2D((2,2)))\n",
        "model.add(layers.Conv2D(128, (3,3), activation = 'relu'))\n",
        "model.add(layers.MaxPooling2D((2,2)))\n",
        "model.add(layers.Flatten())\n",
        "model.add(layers.Dense(512, activation = 'relu'))\n",
        "model.add(layers.Dense(46, activation = 'sigmoid'))"
      ],
      "execution_count": 0,
      "outputs": []
    },
    {
      "cell_type": "code",
      "metadata": {
        "id": "Cr-sZi8FTv0g",
        "colab_type": "code",
        "colab": {
          "base_uri": "https://localhost:8080/",
          "height": 454
        },
        "outputId": "ee544337-9b5d-4de2-d433-414cdc9a82f7"
      },
      "source": [
        "model.summary()"
      ],
      "execution_count": 14,
      "outputs": [
        {
          "output_type": "stream",
          "text": [
            "Model: \"sequential_1\"\n",
            "_________________________________________________________________\n",
            "Layer (type)                 Output Shape              Param #   \n",
            "=================================================================\n",
            "conv2d_1 (Conv2D)            (None, 30, 30, 32)        896       \n",
            "_________________________________________________________________\n",
            "max_pooling2d_1 (MaxPooling2 (None, 15, 15, 32)        0         \n",
            "_________________________________________________________________\n",
            "conv2d_2 (Conv2D)            (None, 13, 13, 64)        18496     \n",
            "_________________________________________________________________\n",
            "max_pooling2d_2 (MaxPooling2 (None, 6, 6, 64)          0         \n",
            "_________________________________________________________________\n",
            "conv2d_3 (Conv2D)            (None, 4, 4, 128)         73856     \n",
            "_________________________________________________________________\n",
            "max_pooling2d_3 (MaxPooling2 (None, 2, 2, 128)         0         \n",
            "_________________________________________________________________\n",
            "flatten_1 (Flatten)          (None, 512)               0         \n",
            "_________________________________________________________________\n",
            "dense_1 (Dense)              (None, 512)               262656    \n",
            "_________________________________________________________________\n",
            "dense_2 (Dense)              (None, 46)                23598     \n",
            "=================================================================\n",
            "Total params: 379,502\n",
            "Trainable params: 379,502\n",
            "Non-trainable params: 0\n",
            "_________________________________________________________________\n"
          ],
          "name": "stdout"
        }
      ]
    },
    {
      "cell_type": "code",
      "metadata": {
        "id": "eBcPKSNGTxGg",
        "colab_type": "code",
        "colab": {}
      },
      "source": [
        "from keras import optimizers\n",
        "model.compile(loss = 'binary_crossentropy', optimizer = optimizers.RMSprop(lr=1e-4), metrics = ['acc'])"
      ],
      "execution_count": 0,
      "outputs": []
    },
    {
      "cell_type": "code",
      "metadata": {
        "id": "zEHcJFIST1w7",
        "colab_type": "code",
        "colab": {
          "base_uri": "https://localhost:8080/",
          "height": 353
        },
        "outputId": "153f6bda-6be6-4f87-ddf1-4064579389cc"
      },
      "source": [
        "history = model.fit_generator(train_generator, steps_per_epoch = 20, epochs = 10, validation_data = validation_generator, validation_steps = 50)"
      ],
      "execution_count": 17,
      "outputs": [
        {
          "output_type": "stream",
          "text": [
            "Epoch 1/10\n",
            "20/20 [==============================] - 2s 107ms/step - loss: 0.0765 - acc: 0.9795 - val_loss: 0.0763 - val_acc: 0.9794\n",
            "Epoch 2/10\n",
            "20/20 [==============================] - 2s 92ms/step - loss: 0.0728 - acc: 0.9795 - val_loss: 0.0680 - val_acc: 0.9799\n",
            "Epoch 3/10\n",
            "20/20 [==============================] - 2s 97ms/step - loss: 0.0703 - acc: 0.9802 - val_loss: 0.0660 - val_acc: 0.9802\n",
            "Epoch 4/10\n",
            "20/20 [==============================] - 2s 93ms/step - loss: 0.0658 - acc: 0.9808 - val_loss: 0.0662 - val_acc: 0.9808\n",
            "Epoch 5/10\n",
            "20/20 [==============================] - 2s 91ms/step - loss: 0.0634 - acc: 0.9814 - val_loss: 0.0648 - val_acc: 0.9811\n",
            "Epoch 6/10\n",
            "20/20 [==============================] - 2s 98ms/step - loss: 0.0608 - acc: 0.9817 - val_loss: 0.0586 - val_acc: 0.9816\n",
            "Epoch 7/10\n",
            "20/20 [==============================] - 2s 91ms/step - loss: 0.0586 - acc: 0.9821 - val_loss: 0.0578 - val_acc: 0.9819\n",
            "Epoch 8/10\n",
            "20/20 [==============================] - 2s 91ms/step - loss: 0.0581 - acc: 0.9821 - val_loss: 0.0596 - val_acc: 0.9824\n",
            "Epoch 9/10\n",
            "20/20 [==============================] - 2s 94ms/step - loss: 0.0562 - acc: 0.9825 - val_loss: 0.0554 - val_acc: 0.9826\n",
            "Epoch 10/10\n",
            "20/20 [==============================] - 2s 92ms/step - loss: 0.0549 - acc: 0.9827 - val_loss: 0.0559 - val_acc: 0.9830\n"
          ],
          "name": "stdout"
        }
      ]
    },
    {
      "cell_type": "code",
      "metadata": {
        "id": "V5F-kQiWT95s",
        "colab_type": "code",
        "colab": {}
      },
      "source": [
        ""
      ],
      "execution_count": 0,
      "outputs": []
    }
  ]
}